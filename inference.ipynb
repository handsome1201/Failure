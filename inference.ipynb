{
  "nbformat": 4,
  "nbformat_minor": 0,
  "metadata": {
    "colab": {
      "provenance": [],
      "gpuType": "T4",
      "include_colab_link": true
    },
    "kernelspec": {
      "name": "python3",
      "display_name": "Python 3"
    },
    "language_info": {
      "name": "python"
    },
    "accelerator": "GPU"
  },
  "cells": [
    {
      "cell_type": "markdown",
      "metadata": {
        "id": "view-in-github",
        "colab_type": "text"
      },
      "source": [
        "<a href=\"https://colab.research.google.com/github/handsome1201/Failure/blob/main/inference.ipynb\" target=\"_parent\"><img src=\"https://colab.research.google.com/assets/colab-badge.svg\" alt=\"Open In Colab\"/></a>"
      ]
    },
    {
      "cell_type": "markdown",
      "source": [
        "# Horizontal bar graph I"
      ],
      "metadata": {
        "id": "j1m6kDCbwLLS"
      }
    },
    {
      "cell_type": "code",
      "source": [
        "!python -m pip install 'git+https://github.com/facebookresearch/detectron2.git'"
      ],
      "metadata": {
        "colab": {
          "base_uri": "https://localhost:8080/"
        },
        "id": "FieDlZJOvZ1N",
        "outputId": "d340ca53-a426-4403-9cd5-c2478aa03e2b"
      },
      "execution_count": 2,
      "outputs": [
        {
          "output_type": "stream",
          "name": "stdout",
          "text": [
            "Collecting git+https://github.com/facebookresearch/detectron2.git\n",
            "  Cloning https://github.com/facebookresearch/detectron2.git to /tmp/pip-req-build-ckexxg__\n",
            "  Running command git clone --filter=blob:none --quiet https://github.com/facebookresearch/detectron2.git /tmp/pip-req-build-ckexxg__\n",
            "  Resolved https://github.com/facebookresearch/detectron2.git to commit ff53992b1985b63bd3262b5a36167098e3dada02\n",
            "  Preparing metadata (setup.py) ... \u001b[?25l\u001b[?25hdone\n",
            "Requirement already satisfied: Pillow>=7.1 in /usr/local/lib/python3.10/dist-packages (from detectron2==0.6) (8.4.0)\n",
            "Requirement already satisfied: matplotlib in /usr/local/lib/python3.10/dist-packages (from detectron2==0.6) (3.7.1)\n",
            "Requirement already satisfied: pycocotools>=2.0.2 in /usr/local/lib/python3.10/dist-packages (from detectron2==0.6) (2.0.6)\n",
            "Requirement already satisfied: termcolor>=1.1 in /usr/local/lib/python3.10/dist-packages (from detectron2==0.6) (2.3.0)\n",
            "Collecting yacs>=0.1.8 (from detectron2==0.6)\n",
            "  Downloading yacs-0.1.8-py3-none-any.whl (14 kB)\n",
            "Requirement already satisfied: tabulate in /usr/local/lib/python3.10/dist-packages (from detectron2==0.6) (0.8.10)\n",
            "Requirement already satisfied: cloudpickle in /usr/local/lib/python3.10/dist-packages (from detectron2==0.6) (2.2.1)\n",
            "Requirement already satisfied: tqdm>4.29.0 in /usr/local/lib/python3.10/dist-packages (from detectron2==0.6) (4.65.0)\n",
            "Requirement already satisfied: tensorboard in /usr/local/lib/python3.10/dist-packages (from detectron2==0.6) (2.12.3)\n",
            "Collecting fvcore<0.1.6,>=0.1.5 (from detectron2==0.6)\n",
            "  Downloading fvcore-0.1.5.post20221221.tar.gz (50 kB)\n",
            "\u001b[2K     \u001b[90m━━━━━━━━━━━━━━━━━━━━━━━━━━━━━━━━━━━━━━━━\u001b[0m \u001b[32m50.2/50.2 kB\u001b[0m \u001b[31m7.2 MB/s\u001b[0m eta \u001b[36m0:00:00\u001b[0m\n",
            "\u001b[?25h  Preparing metadata (setup.py) ... \u001b[?25l\u001b[?25hdone\n",
            "Collecting iopath<0.1.10,>=0.1.7 (from detectron2==0.6)\n",
            "  Downloading iopath-0.1.9-py3-none-any.whl (27 kB)\n",
            "Collecting omegaconf>=2.1 (from detectron2==0.6)\n",
            "  Downloading omegaconf-2.3.0-py3-none-any.whl (79 kB)\n",
            "\u001b[2K     \u001b[90m━━━━━━━━━━━━━━━━━━━━━━━━━━━━━━━━━━━━━━━━\u001b[0m \u001b[32m79.5/79.5 kB\u001b[0m \u001b[31m11.6 MB/s\u001b[0m eta \u001b[36m0:00:00\u001b[0m\n",
            "\u001b[?25hCollecting hydra-core>=1.1 (from detectron2==0.6)\n",
            "  Downloading hydra_core-1.3.2-py3-none-any.whl (154 kB)\n",
            "\u001b[2K     \u001b[90m━━━━━━━━━━━━━━━━━━━━━━━━━━━━━━━━━━━━━━\u001b[0m \u001b[32m154.5/154.5 kB\u001b[0m \u001b[31m21.8 MB/s\u001b[0m eta \u001b[36m0:00:00\u001b[0m\n",
            "\u001b[?25hCollecting black (from detectron2==0.6)\n",
            "  Downloading black-23.3.0-cp310-cp310-manylinux_2_17_x86_64.manylinux2014_x86_64.whl (1.7 MB)\n",
            "\u001b[2K     \u001b[90m━━━━━━━━━━━━━━━━━━━━━━━━━━━━━━━━━━━━━━━━\u001b[0m \u001b[32m1.7/1.7 MB\u001b[0m \u001b[31m83.0 MB/s\u001b[0m eta \u001b[36m0:00:00\u001b[0m\n",
            "\u001b[?25hRequirement already satisfied: packaging in /usr/local/lib/python3.10/dist-packages (from detectron2==0.6) (23.1)\n",
            "Requirement already satisfied: numpy in /usr/local/lib/python3.10/dist-packages (from fvcore<0.1.6,>=0.1.5->detectron2==0.6) (1.22.4)\n",
            "Requirement already satisfied: pyyaml>=5.1 in /usr/local/lib/python3.10/dist-packages (from fvcore<0.1.6,>=0.1.5->detectron2==0.6) (6.0)\n",
            "Collecting antlr4-python3-runtime==4.9.* (from hydra-core>=1.1->detectron2==0.6)\n",
            "  Downloading antlr4-python3-runtime-4.9.3.tar.gz (117 kB)\n",
            "\u001b[2K     \u001b[90m━━━━━━━━━━━━━━━━━━━━━━━━━━━━━━━━━━━━━━\u001b[0m \u001b[32m117.0/117.0 kB\u001b[0m \u001b[31m16.1 MB/s\u001b[0m eta \u001b[36m0:00:00\u001b[0m\n",
            "\u001b[?25h  Preparing metadata (setup.py) ... \u001b[?25l\u001b[?25hdone\n",
            "Collecting portalocker (from iopath<0.1.10,>=0.1.7->detectron2==0.6)\n",
            "  Downloading portalocker-2.7.0-py2.py3-none-any.whl (15 kB)\n",
            "Requirement already satisfied: contourpy>=1.0.1 in /usr/local/lib/python3.10/dist-packages (from matplotlib->detectron2==0.6) (1.1.0)\n",
            "Requirement already satisfied: cycler>=0.10 in /usr/local/lib/python3.10/dist-packages (from matplotlib->detectron2==0.6) (0.11.0)\n",
            "Requirement already satisfied: fonttools>=4.22.0 in /usr/local/lib/python3.10/dist-packages (from matplotlib->detectron2==0.6) (4.40.0)\n",
            "Requirement already satisfied: kiwisolver>=1.0.1 in /usr/local/lib/python3.10/dist-packages (from matplotlib->detectron2==0.6) (1.4.4)\n",
            "Requirement already satisfied: pyparsing>=2.3.1 in /usr/local/lib/python3.10/dist-packages (from matplotlib->detectron2==0.6) (3.1.0)\n",
            "Requirement already satisfied: python-dateutil>=2.7 in /usr/local/lib/python3.10/dist-packages (from matplotlib->detectron2==0.6) (2.8.2)\n",
            "Requirement already satisfied: click>=8.0.0 in /usr/local/lib/python3.10/dist-packages (from black->detectron2==0.6) (8.1.3)\n",
            "Collecting mypy-extensions>=0.4.3 (from black->detectron2==0.6)\n",
            "  Downloading mypy_extensions-1.0.0-py3-none-any.whl (4.7 kB)\n",
            "Collecting pathspec>=0.9.0 (from black->detectron2==0.6)\n",
            "  Downloading pathspec-0.11.1-py3-none-any.whl (29 kB)\n",
            "Requirement already satisfied: platformdirs>=2 in /usr/local/lib/python3.10/dist-packages (from black->detectron2==0.6) (3.7.0)\n",
            "Requirement already satisfied: tomli>=1.1.0 in /usr/local/lib/python3.10/dist-packages (from black->detectron2==0.6) (2.0.1)\n",
            "Requirement already satisfied: absl-py>=0.4 in /usr/local/lib/python3.10/dist-packages (from tensorboard->detectron2==0.6) (1.4.0)\n",
            "Requirement already satisfied: grpcio>=1.48.2 in /usr/local/lib/python3.10/dist-packages (from tensorboard->detectron2==0.6) (1.56.0)\n",
            "Requirement already satisfied: google-auth<3,>=1.6.3 in /usr/local/lib/python3.10/dist-packages (from tensorboard->detectron2==0.6) (2.17.3)\n",
            "Requirement already satisfied: google-auth-oauthlib<1.1,>=0.5 in /usr/local/lib/python3.10/dist-packages (from tensorboard->detectron2==0.6) (1.0.0)\n",
            "Requirement already satisfied: markdown>=2.6.8 in /usr/local/lib/python3.10/dist-packages (from tensorboard->detectron2==0.6) (3.4.3)\n",
            "Requirement already satisfied: protobuf>=3.19.6 in /usr/local/lib/python3.10/dist-packages (from tensorboard->detectron2==0.6) (3.20.3)\n",
            "Requirement already satisfied: requests<3,>=2.21.0 in /usr/local/lib/python3.10/dist-packages (from tensorboard->detectron2==0.6) (2.27.1)\n",
            "Requirement already satisfied: setuptools>=41.0.0 in /usr/local/lib/python3.10/dist-packages (from tensorboard->detectron2==0.6) (67.7.2)\n",
            "Requirement already satisfied: tensorboard-data-server<0.8.0,>=0.7.0 in /usr/local/lib/python3.10/dist-packages (from tensorboard->detectron2==0.6) (0.7.1)\n",
            "Requirement already satisfied: werkzeug>=1.0.1 in /usr/local/lib/python3.10/dist-packages (from tensorboard->detectron2==0.6) (2.3.6)\n",
            "Requirement already satisfied: wheel>=0.26 in /usr/local/lib/python3.10/dist-packages (from tensorboard->detectron2==0.6) (0.40.0)\n",
            "Requirement already satisfied: cachetools<6.0,>=2.0.0 in /usr/local/lib/python3.10/dist-packages (from google-auth<3,>=1.6.3->tensorboard->detectron2==0.6) (5.3.1)\n",
            "Requirement already satisfied: pyasn1-modules>=0.2.1 in /usr/local/lib/python3.10/dist-packages (from google-auth<3,>=1.6.3->tensorboard->detectron2==0.6) (0.3.0)\n",
            "Requirement already satisfied: six>=1.9.0 in /usr/local/lib/python3.10/dist-packages (from google-auth<3,>=1.6.3->tensorboard->detectron2==0.6) (1.16.0)\n",
            "Requirement already satisfied: rsa<5,>=3.1.4 in /usr/local/lib/python3.10/dist-packages (from google-auth<3,>=1.6.3->tensorboard->detectron2==0.6) (4.9)\n",
            "Requirement already satisfied: requests-oauthlib>=0.7.0 in /usr/local/lib/python3.10/dist-packages (from google-auth-oauthlib<1.1,>=0.5->tensorboard->detectron2==0.6) (1.3.1)\n",
            "Requirement already satisfied: urllib3<1.27,>=1.21.1 in /usr/local/lib/python3.10/dist-packages (from requests<3,>=2.21.0->tensorboard->detectron2==0.6) (1.26.16)\n",
            "Requirement already satisfied: certifi>=2017.4.17 in /usr/local/lib/python3.10/dist-packages (from requests<3,>=2.21.0->tensorboard->detectron2==0.6) (2023.5.7)\n",
            "Requirement already satisfied: charset-normalizer~=2.0.0 in /usr/local/lib/python3.10/dist-packages (from requests<3,>=2.21.0->tensorboard->detectron2==0.6) (2.0.12)\n",
            "Requirement already satisfied: idna<4,>=2.5 in /usr/local/lib/python3.10/dist-packages (from requests<3,>=2.21.0->tensorboard->detectron2==0.6) (3.4)\n",
            "Requirement already satisfied: MarkupSafe>=2.1.1 in /usr/local/lib/python3.10/dist-packages (from werkzeug>=1.0.1->tensorboard->detectron2==0.6) (2.1.3)\n",
            "Requirement already satisfied: pyasn1<0.6.0,>=0.4.6 in /usr/local/lib/python3.10/dist-packages (from pyasn1-modules>=0.2.1->google-auth<3,>=1.6.3->tensorboard->detectron2==0.6) (0.5.0)\n",
            "Requirement already satisfied: oauthlib>=3.0.0 in /usr/local/lib/python3.10/dist-packages (from requests-oauthlib>=0.7.0->google-auth-oauthlib<1.1,>=0.5->tensorboard->detectron2==0.6) (3.2.2)\n",
            "Building wheels for collected packages: detectron2, fvcore, antlr4-python3-runtime\n",
            "  Building wheel for detectron2 (setup.py) ... \u001b[?25l\u001b[?25hdone\n",
            "  Created wheel for detectron2: filename=detectron2-0.6-cp310-cp310-linux_x86_64.whl size=7803834 sha256=eed5c03ba6e7a11e29ef315e9c8430da91155d3718f249c6fb3c995842ad9b38\n",
            "  Stored in directory: /tmp/pip-ephem-wheel-cache-k336etw_/wheels/47/e5/15/94c80df2ba85500c5d76599cc307c0a7079d0e221bb6fc4375\n",
            "  Building wheel for fvcore (setup.py) ... \u001b[?25l\u001b[?25hdone\n",
            "  Created wheel for fvcore: filename=fvcore-0.1.5.post20221221-py3-none-any.whl size=61405 sha256=45e9ee71529a14f2e2960dccf4532800d7ed23f47e3cb8d5e9b00d5417917049\n",
            "  Stored in directory: /root/.cache/pip/wheels/01/c0/af/77c1cf53a1be9e42a52b48e5af2169d40ec2e89f7362489dd0\n",
            "  Building wheel for antlr4-python3-runtime (setup.py) ... \u001b[?25l\u001b[?25hdone\n",
            "  Created wheel for antlr4-python3-runtime: filename=antlr4_python3_runtime-4.9.3-py3-none-any.whl size=144554 sha256=0d6bb650aafe4165a53206de82849b1dc8c72d80c98b10646a3a31b74bff94ac\n",
            "  Stored in directory: /root/.cache/pip/wheels/12/93/dd/1f6a127edc45659556564c5730f6d4e300888f4bca2d4c5a88\n",
            "Successfully built detectron2 fvcore antlr4-python3-runtime\n",
            "Installing collected packages: antlr4-python3-runtime, yacs, portalocker, pathspec, omegaconf, mypy-extensions, iopath, hydra-core, black, fvcore, detectron2\n",
            "Successfully installed antlr4-python3-runtime-4.9.3 black-23.3.0 detectron2-0.6 fvcore-0.1.5.post20221221 hydra-core-1.3.2 iopath-0.1.9 mypy-extensions-1.0.0 omegaconf-2.3.0 pathspec-0.11.1 portalocker-2.7.0 yacs-0.1.8\n"
          ]
        }
      ]
    },
    {
      "cell_type": "code",
      "execution_count": 3,
      "metadata": {
        "colab": {
          "base_uri": "https://localhost:8080/"
        },
        "id": "4_qU0kvfwIrm",
        "outputId": "e8fbf9d5-c5be-460b-e441-2fa2bb0e0e33",
        "ExecuteTime": {
          "end_time": "2023-07-10T02:12:33.858338Z",
          "start_time": "2023-07-10T02:12:15.072845300Z"
        }
      },
      "outputs": [
        {
          "output_type": "stream",
          "name": "stdout",
          "text": [
            "Collecting pyyaml==5.1\n",
            "  Downloading PyYAML-5.1.tar.gz (274 kB)\n",
            "\u001b[?25l     \u001b[90m━━━━━━━━━━━━━━━━━━━━━━━━━━━━━━━━━━━━━━━━\u001b[0m \u001b[32m0.0/274.2 kB\u001b[0m \u001b[31m?\u001b[0m eta \u001b[36m-:--:--\u001b[0m\r\u001b[2K     \u001b[90m━━━━━━━━━━━━━━━━━━━━━━━━━━━━━━━━━━━━━━\u001b[0m \u001b[32m274.2/274.2 kB\u001b[0m \u001b[31m20.1 MB/s\u001b[0m eta \u001b[36m0:00:00\u001b[0m\n",
            "\u001b[?25h  Preparing metadata (setup.py) ... \u001b[?25l\u001b[?25hdone\n",
            "Building wheels for collected packages: pyyaml\n",
            "  Building wheel for pyyaml (setup.py) ... \u001b[?25l\u001b[?25hdone\n",
            "  Created wheel for pyyaml: filename=PyYAML-5.1-cp310-cp310-linux_x86_64.whl size=44090 sha256=7c41ccdf14b277537c1faaa4fa11d8c171654465f881a4f12ae80692b17521dd\n",
            "  Stored in directory: /root/.cache/pip/wheels/70/83/31/975b737609aba39a4099d471d5684141c1fdc3404f97e7f68a\n",
            "Successfully built pyyaml\n",
            "Installing collected packages: pyyaml\n",
            "  Attempting uninstall: pyyaml\n",
            "    Found existing installation: PyYAML 6.0\n",
            "    Uninstalling PyYAML-6.0:\n",
            "      Successfully uninstalled PyYAML-6.0\n",
            "\u001b[31mERROR: pip's dependency resolver does not currently take into account all the packages that are installed. This behaviour is the source of the following dependency conflicts.\n",
            "dask 2022.12.1 requires pyyaml>=5.3.1, but you have pyyaml 5.1 which is incompatible.\n",
            "flax 0.6.11 requires PyYAML>=5.4.1, but you have pyyaml 5.1 which is incompatible.\u001b[0m\u001b[31m\n",
            "\u001b[0mSuccessfully installed pyyaml-5.1\n"
          ]
        }
      ],
      "source": [
        "!pip install pyyaml==5.1\n",
        "# !pip install torch== 1.11.0 torchvision==0.9.0+cu101 -f https://download.pytorch.org/whl/torch_stable.html\n",
        "!pip install -q pytesseract\n",
        "\n"
      ]
    },
    {
      "cell_type": "code",
      "source": [
        "!pip install transformers\n",
        "!pip install datasets"
      ],
      "metadata": {
        "colab": {
          "base_uri": "https://localhost:8080/"
        },
        "id": "p0GeAUE1wZNX",
        "outputId": "f3d0ae62-aad8-47cf-accd-1e3d9401f2ec",
        "ExecuteTime": {
          "end_time": "2023-07-10T02:12:47.411958500Z",
          "start_time": "2023-07-10T02:12:33.858338Z"
        }
      },
      "execution_count": 4,
      "outputs": [
        {
          "output_type": "stream",
          "name": "stdout",
          "text": [
            "Collecting transformers\n",
            "  Downloading transformers-4.30.2-py3-none-any.whl (7.2 MB)\n",
            "\u001b[2K     \u001b[90m━━━━━━━━━━━━━━━━━━━━━━━━━━━━━━━━━━━━━━━━\u001b[0m \u001b[32m7.2/7.2 MB\u001b[0m \u001b[31m82.6 MB/s\u001b[0m eta \u001b[36m0:00:00\u001b[0m\n",
            "\u001b[?25hRequirement already satisfied: filelock in /usr/local/lib/python3.10/dist-packages (from transformers) (3.12.2)\n",
            "Collecting huggingface-hub<1.0,>=0.14.1 (from transformers)\n",
            "  Downloading huggingface_hub-0.16.4-py3-none-any.whl (268 kB)\n",
            "\u001b[2K     \u001b[90m━━━━━━━━━━━━━━━━━━━━━━━━━━━━━━━━━━━━━━\u001b[0m \u001b[32m268.8/268.8 kB\u001b[0m \u001b[31m30.0 MB/s\u001b[0m eta \u001b[36m0:00:00\u001b[0m\n",
            "\u001b[?25hRequirement already satisfied: numpy>=1.17 in /usr/local/lib/python3.10/dist-packages (from transformers) (1.22.4)\n",
            "Requirement already satisfied: packaging>=20.0 in /usr/local/lib/python3.10/dist-packages (from transformers) (23.1)\n",
            "Requirement already satisfied: pyyaml>=5.1 in /usr/local/lib/python3.10/dist-packages (from transformers) (5.1)\n",
            "Requirement already satisfied: regex!=2019.12.17 in /usr/local/lib/python3.10/dist-packages (from transformers) (2022.10.31)\n",
            "Requirement already satisfied: requests in /usr/local/lib/python3.10/dist-packages (from transformers) (2.27.1)\n",
            "Collecting tokenizers!=0.11.3,<0.14,>=0.11.1 (from transformers)\n",
            "  Downloading tokenizers-0.13.3-cp310-cp310-manylinux_2_17_x86_64.manylinux2014_x86_64.whl (7.8 MB)\n",
            "\u001b[2K     \u001b[90m━━━━━━━━━━━━━━━━━━━━━━━━━━━━━━━━━━━━━━━━\u001b[0m \u001b[32m7.8/7.8 MB\u001b[0m \u001b[31m78.9 MB/s\u001b[0m eta \u001b[36m0:00:00\u001b[0m\n",
            "\u001b[?25hCollecting safetensors>=0.3.1 (from transformers)\n",
            "  Downloading safetensors-0.3.1-cp310-cp310-manylinux_2_17_x86_64.manylinux2014_x86_64.whl (1.3 MB)\n",
            "\u001b[2K     \u001b[90m━━━━━━━━━━━━━━━━━━━━━━━━━━━━━━━━━━━━━━━━\u001b[0m \u001b[32m1.3/1.3 MB\u001b[0m \u001b[31m76.0 MB/s\u001b[0m eta \u001b[36m0:00:00\u001b[0m\n",
            "\u001b[?25hRequirement already satisfied: tqdm>=4.27 in /usr/local/lib/python3.10/dist-packages (from transformers) (4.65.0)\n",
            "Requirement already satisfied: fsspec in /usr/local/lib/python3.10/dist-packages (from huggingface-hub<1.0,>=0.14.1->transformers) (2023.6.0)\n",
            "Requirement already satisfied: typing-extensions>=3.7.4.3 in /usr/local/lib/python3.10/dist-packages (from huggingface-hub<1.0,>=0.14.1->transformers) (4.6.3)\n",
            "Requirement already satisfied: urllib3<1.27,>=1.21.1 in /usr/local/lib/python3.10/dist-packages (from requests->transformers) (1.26.16)\n",
            "Requirement already satisfied: certifi>=2017.4.17 in /usr/local/lib/python3.10/dist-packages (from requests->transformers) (2023.5.7)\n",
            "Requirement already satisfied: charset-normalizer~=2.0.0 in /usr/local/lib/python3.10/dist-packages (from requests->transformers) (2.0.12)\n",
            "Requirement already satisfied: idna<4,>=2.5 in /usr/local/lib/python3.10/dist-packages (from requests->transformers) (3.4)\n",
            "Installing collected packages: tokenizers, safetensors, huggingface-hub, transformers\n",
            "Successfully installed huggingface-hub-0.16.4 safetensors-0.3.1 tokenizers-0.13.3 transformers-4.30.2\n",
            "Collecting datasets\n",
            "  Downloading datasets-2.13.1-py3-none-any.whl (486 kB)\n",
            "\u001b[2K     \u001b[90m━━━━━━━━━━━━━━━━━━━━━━━━━━━━━━━━━━━━━━\u001b[0m \u001b[32m486.2/486.2 kB\u001b[0m \u001b[31m31.5 MB/s\u001b[0m eta \u001b[36m0:00:00\u001b[0m\n",
            "\u001b[?25hRequirement already satisfied: numpy>=1.17 in /usr/local/lib/python3.10/dist-packages (from datasets) (1.22.4)\n",
            "Requirement already satisfied: pyarrow>=8.0.0 in /usr/local/lib/python3.10/dist-packages (from datasets) (9.0.0)\n",
            "Collecting dill<0.3.7,>=0.3.0 (from datasets)\n",
            "  Downloading dill-0.3.6-py3-none-any.whl (110 kB)\n",
            "\u001b[2K     \u001b[90m━━━━━━━━━━━━━━━━━━━━━━━━━━━━━━━━━━━━━━\u001b[0m \u001b[32m110.5/110.5 kB\u001b[0m \u001b[31m13.1 MB/s\u001b[0m eta \u001b[36m0:00:00\u001b[0m\n",
            "\u001b[?25hRequirement already satisfied: pandas in /usr/local/lib/python3.10/dist-packages (from datasets) (1.5.3)\n",
            "Requirement already satisfied: requests>=2.19.0 in /usr/local/lib/python3.10/dist-packages (from datasets) (2.27.1)\n",
            "Requirement already satisfied: tqdm>=4.62.1 in /usr/local/lib/python3.10/dist-packages (from datasets) (4.65.0)\n",
            "Collecting xxhash (from datasets)\n",
            "  Downloading xxhash-3.2.0-cp310-cp310-manylinux_2_17_x86_64.manylinux2014_x86_64.whl (212 kB)\n",
            "\u001b[2K     \u001b[90m━━━━━━━━━━━━━━━━━━━━━━━━━━━━━━━━━━━━━━\u001b[0m \u001b[32m212.5/212.5 kB\u001b[0m \u001b[31m20.2 MB/s\u001b[0m eta \u001b[36m0:00:00\u001b[0m\n",
            "\u001b[?25hCollecting multiprocess (from datasets)\n",
            "  Downloading multiprocess-0.70.14-py310-none-any.whl (134 kB)\n",
            "\u001b[2K     \u001b[90m━━━━━━━━━━━━━━━━━━━━━━━━━━━━━━━━━━━━━━\u001b[0m \u001b[32m134.3/134.3 kB\u001b[0m \u001b[31m15.8 MB/s\u001b[0m eta \u001b[36m0:00:00\u001b[0m\n",
            "\u001b[?25hRequirement already satisfied: fsspec[http]>=2021.11.1 in /usr/local/lib/python3.10/dist-packages (from datasets) (2023.6.0)\n",
            "Requirement already satisfied: aiohttp in /usr/local/lib/python3.10/dist-packages (from datasets) (3.8.4)\n",
            "Requirement already satisfied: huggingface-hub<1.0.0,>=0.11.0 in /usr/local/lib/python3.10/dist-packages (from datasets) (0.16.4)\n",
            "Requirement already satisfied: packaging in /usr/local/lib/python3.10/dist-packages (from datasets) (23.1)\n",
            "Requirement already satisfied: pyyaml>=5.1 in /usr/local/lib/python3.10/dist-packages (from datasets) (5.1)\n",
            "Requirement already satisfied: attrs>=17.3.0 in /usr/local/lib/python3.10/dist-packages (from aiohttp->datasets) (23.1.0)\n",
            "Requirement already satisfied: charset-normalizer<4.0,>=2.0 in /usr/local/lib/python3.10/dist-packages (from aiohttp->datasets) (2.0.12)\n",
            "Requirement already satisfied: multidict<7.0,>=4.5 in /usr/local/lib/python3.10/dist-packages (from aiohttp->datasets) (6.0.4)\n",
            "Requirement already satisfied: async-timeout<5.0,>=4.0.0a3 in /usr/local/lib/python3.10/dist-packages (from aiohttp->datasets) (4.0.2)\n",
            "Requirement already satisfied: yarl<2.0,>=1.0 in /usr/local/lib/python3.10/dist-packages (from aiohttp->datasets) (1.9.2)\n",
            "Requirement already satisfied: frozenlist>=1.1.1 in /usr/local/lib/python3.10/dist-packages (from aiohttp->datasets) (1.3.3)\n",
            "Requirement already satisfied: aiosignal>=1.1.2 in /usr/local/lib/python3.10/dist-packages (from aiohttp->datasets) (1.3.1)\n",
            "Requirement already satisfied: filelock in /usr/local/lib/python3.10/dist-packages (from huggingface-hub<1.0.0,>=0.11.0->datasets) (3.12.2)\n",
            "Requirement already satisfied: typing-extensions>=3.7.4.3 in /usr/local/lib/python3.10/dist-packages (from huggingface-hub<1.0.0,>=0.11.0->datasets) (4.6.3)\n",
            "Requirement already satisfied: urllib3<1.27,>=1.21.1 in /usr/local/lib/python3.10/dist-packages (from requests>=2.19.0->datasets) (1.26.16)\n",
            "Requirement already satisfied: certifi>=2017.4.17 in /usr/local/lib/python3.10/dist-packages (from requests>=2.19.0->datasets) (2023.5.7)\n",
            "Requirement already satisfied: idna<4,>=2.5 in /usr/local/lib/python3.10/dist-packages (from requests>=2.19.0->datasets) (3.4)\n",
            "Requirement already satisfied: python-dateutil>=2.8.1 in /usr/local/lib/python3.10/dist-packages (from pandas->datasets) (2.8.2)\n",
            "Requirement already satisfied: pytz>=2020.1 in /usr/local/lib/python3.10/dist-packages (from pandas->datasets) (2022.7.1)\n",
            "Requirement already satisfied: six>=1.5 in /usr/local/lib/python3.10/dist-packages (from python-dateutil>=2.8.1->pandas->datasets) (1.16.0)\n",
            "Installing collected packages: xxhash, dill, multiprocess, datasets\n",
            "Successfully installed datasets-2.13.1 dill-0.3.6 multiprocess-0.70.14 xxhash-3.2.0\n"
          ]
        }
      ]
    },
    {
      "cell_type": "code",
      "source": [
        "!sudo apt-get install tesseract-ocr\n"
      ],
      "metadata": {
        "colab": {
          "base_uri": "https://localhost:8080/"
        },
        "id": "CBTpST4swak6",
        "outputId": "2afcad7f-d672-4cc3-a539-573b90510ac7",
        "ExecuteTime": {
          "end_time": "2023-07-10T02:12:47.459724Z",
          "start_time": "2023-07-10T02:12:47.411958500Z"
        }
      },
      "execution_count": 5,
      "outputs": [
        {
          "output_type": "stream",
          "name": "stdout",
          "text": [
            "Reading package lists... Done\n",
            "Building dependency tree       \n",
            "Reading state information... Done\n",
            "The following additional packages will be installed:\n",
            "  tesseract-ocr-eng tesseract-ocr-osd\n",
            "The following NEW packages will be installed:\n",
            "  tesseract-ocr tesseract-ocr-eng tesseract-ocr-osd\n",
            "0 upgraded, 3 newly installed, 0 to remove and 15 not upgraded.\n",
            "Need to get 4,850 kB of archives.\n",
            "After this operation, 16.3 MB of additional disk space will be used.\n",
            "Get:1 http://archive.ubuntu.com/ubuntu focal/universe amd64 tesseract-ocr-eng all 1:4.00~git30-7274cfa-1 [1,598 kB]\n",
            "Get:2 http://archive.ubuntu.com/ubuntu focal/universe amd64 tesseract-ocr-osd all 1:4.00~git30-7274cfa-1 [2,990 kB]\n",
            "Get:3 http://archive.ubuntu.com/ubuntu focal/universe amd64 tesseract-ocr amd64 4.1.1-2build2 [262 kB]\n",
            "Fetched 4,850 kB in 3s (1,896 kB/s)\n",
            "debconf: unable to initialize frontend: Dialog\n",
            "debconf: (No usable dialog-like program is installed, so the dialog based frontend cannot be used. at /usr/share/perl5/Debconf/FrontEnd/Dialog.pm line 76, <> line 3.)\n",
            "debconf: falling back to frontend: Readline\n",
            "debconf: unable to initialize frontend: Readline\n",
            "debconf: (This frontend requires a controlling tty.)\n",
            "debconf: falling back to frontend: Teletype\n",
            "dpkg-preconfigure: unable to re-open stdin: \n",
            "Selecting previously unselected package tesseract-ocr-eng.\n",
            "(Reading database ... 123105 files and directories currently installed.)\n",
            "Preparing to unpack .../tesseract-ocr-eng_1%3a4.00~git30-7274cfa-1_all.deb ...\n",
            "Unpacking tesseract-ocr-eng (1:4.00~git30-7274cfa-1) ...\n",
            "Selecting previously unselected package tesseract-ocr-osd.\n",
            "Preparing to unpack .../tesseract-ocr-osd_1%3a4.00~git30-7274cfa-1_all.deb ...\n",
            "Unpacking tesseract-ocr-osd (1:4.00~git30-7274cfa-1) ...\n",
            "Selecting previously unselected package tesseract-ocr.\n",
            "Preparing to unpack .../tesseract-ocr_4.1.1-2build2_amd64.deb ...\n",
            "Unpacking tesseract-ocr (4.1.1-2build2) ...\n",
            "Setting up tesseract-ocr-eng (1:4.00~git30-7274cfa-1) ...\n",
            "Setting up tesseract-ocr-osd (1:4.00~git30-7274cfa-1) ...\n",
            "Setting up tesseract-ocr (4.1.1-2build2) ...\n",
            "Processing triggers for man-db (2.9.1-1) ...\n"
          ]
        }
      ]
    },
    {
      "cell_type": "code",
      "source": [
        "import cv2\n",
        "import matplotlib.pyplot as plt\n",
        "from google.colab.patches import cv2_imshow\n",
        "import numpy as np\n",
        "from skimage.filters import frangi\n",
        "from transformers import LayoutLMv2FeatureExtractor, LayoutLMv2TokenizerFast, LayoutLMv2ForTokenClassification\n",
        "from datasets import load_dataset\n",
        "import pytesseract\n",
        "from PIL import Image, ImageFont, ImageDraw\n"
      ],
      "metadata": {
        "id": "cCDHUZb0wg3y",
        "ExecuteTime": {
          "end_time": "2023-07-10T02:12:48.466609700Z",
          "start_time": "2023-07-10T02:12:47.459724Z"
        }
      },
      "execution_count": 6,
      "outputs": []
    },
    {
      "cell_type": "markdown",
      "source": [
        "### function definations"
      ],
      "metadata": {
        "id": "hi1cJFx9wlhL"
      }
    },
    {
      "cell_type": "code",
      "source": [
        "def calc_contours(image_path):\n",
        "  img = cv2.imread(image_path)\n",
        "\n",
        "  # Apply bilateral filter\n",
        "  img_bilateral = cv2.bilateralFilter(img, 9, 75, 75)\n",
        "\n",
        "  # Convert the image to grayscale\n",
        "  gray = cv2.cvtColor(img, cv2.COLOR_BGR2GRAY)\n",
        "\n",
        "  # Apply thresholding to remove text and noise\n",
        "  _, thresh = cv2.threshold(gray, 150, 255, cv2.THRESH_BINARY)\n",
        "\n",
        "  # Apply ROI masking to exclude non-graph regions\n",
        "  mask = np.zeros_like(thresh)\n",
        "  mask[50:400, 100:700] = 255\n",
        "  masked_thresh = cv2.bitwise_and(thresh, mask)\n",
        "\n",
        "  # Apply edge detection using the Canny algorithm\n",
        "  edges = cv2.Canny(gray, 100, 200)\n",
        "\n",
        "  # Apply horizontal line detection using HoughLinesP\n",
        "  lines = cv2.HoughLinesP(edges, 1, np.pi/180, 100, minLineLength=250, maxLineGap=15)\n",
        "  horizontal_lines = []\n",
        "  for line in lines:\n",
        "      x1, y1, x2, y2 = line[0]\n",
        "      if abs(y1 - y2) < 5: # Check if the line is horizontal\n",
        "          horizontal_lines.append(line)\n",
        "\n",
        "  # Draw the detected lines on the image\n",
        "  for line in horizontal_lines:\n",
        "      x1, y1, x2, y2 = line[0]\n",
        "      # cv2.line(img, (x1, y1), (x2, y2), (255, 255, 255), 2)\n",
        "\n",
        "  # Find contours in the image\n",
        "  contours, hierarchy = cv2.findContours(edges, cv2.RETR_TREE, cv2.CHAIN_APPROX_SIMPLE)\n",
        "\n",
        "  # Filter out unwanted contours based on contour area and aspect ratio\n",
        "  bars = []\n",
        "  for cnt in contours:\n",
        "      area = cv2.contourArea(cnt)\n",
        "      x, y, w, h = cv2.boundingRect(cnt)\n",
        "      aspect_ratio = float(w) / h\n",
        "      if area > 7 and aspect_ratio > 5 and aspect_ratio < 50000:\n",
        "          bars.append(cnt)\n",
        "\n",
        "  ###### 2 consecutive element from the bars represent single contour only\n",
        "  ###### and we will consider only one of them, so we will filter out odd index elemnts from the \"bars\"\n",
        "\n",
        "  def filter_bars(bars):\n",
        "    lst = []\n",
        "    for i in range(len(bars)):\n",
        "      if(i%2==1):\n",
        "        lst.append(bars[i])\n",
        "    return lst\n",
        "\n",
        "  bars = filter_bars(bars)\n",
        "\n",
        "  # Draw the remaining contours on the image\n",
        "  cv2.drawContours(img, bars, -1, (255, 255, 0), 2)\n",
        "\n",
        "  # Show the image\n",
        "  cv2_imshow(img)\n",
        "  return bars\n",
        "\n"
      ],
      "metadata": {
        "id": "mD4wc9bDwlCa"
      },
      "execution_count": 7,
      "outputs": []
    },
    {
      "cell_type": "code",
      "source": [
        "def calc_contours_contours(image_path):\n",
        "    img = cv2.imread(image_path)\n",
        "\n",
        "    # Apply bilateral filter\n",
        "    img_bilateral = cv2.bilateralFilter(img, 9, 75, 75)\n",
        "\n",
        "    # Convert the image to grayscale\n",
        "    gray = cv2.cvtColor(img, cv2.COLOR_BGR2GRAY)\n",
        "\n",
        "    # Apply thresholding to remove text and noise\n",
        "    _, thresh = cv2.threshold(gray, 150, 255, cv2.THRESH_BINARY)\n",
        "\n",
        "    # Apply ROI masking to exclude non-graph regions\n",
        "    mask = np.zeros_like(thresh)\n",
        "    mask[50:400, 100:700] = 255\n",
        "    masked_thresh = cv2.bitwise_and(thresh, mask)\n",
        "\n",
        "    # Apply edge detection using the Canny algorithm\n",
        "    edges = cv2.Canny(gray, 100, 200)\n",
        "\n",
        "    # Apply vertical line detection using HoughLinesP\n",
        "    lines = cv2.HoughLinesP(edges, 1, np.pi/180, 100, minLineLength=250, maxLineGap=15)\n",
        "    vertical_lines = []\n",
        "    for line in lines:\n",
        "        x1, y1, x2, y2 = line[0]\n",
        "        if abs(x1 - x2) < 5:  # Check if the line is vertical\n",
        "            vertical_lines.append(line)\n",
        "\n",
        "    # Draw the detected lines on the image\n",
        "    for line in vertical_lines:\n",
        "        x1, y1, x2, y2 = line[0]\n",
        "        cv2.line(img, (x1, y1), (x2, y2), (255, 255, 255), 2)\n",
        "\n",
        "    # Find contours in the image\n",
        "    contours, hierarchy = cv2.findContours(edges, cv2.RETR_TREE, cv2.CHAIN_APPROX_SIMPLE)\n",
        "\n",
        "    # Filter out unwanted contours based on contour area and aspect ratio\n",
        "    bars = []\n",
        "    for cnt in contours:\n",
        "        area = cv2.contourArea(cnt)\n",
        "        x, y, w, h = cv2.boundingRect(cnt)\n",
        "        aspect_ratio = float(w) / h\n",
        "        if area > 7 and aspect_ratio > 5 and aspect_ratio < 50000:\n",
        "            bars.append(cnt)\n",
        "\n",
        "    # Filter out odd index elements from the \"bars\" list\n",
        "    bars = bars[1::2]\n",
        "\n",
        "    # Draw the remaining contours on the image\n",
        "    cv2.drawContours(img, bars, -1, (255, 255, 0), 2)\n",
        "\n",
        "    # Show the image\n",
        "    plt.imshow(cv2.cvtColor(img, cv2.COLOR_BGR2RGB))\n",
        "    plt.axis('off')\n",
        "    plt.show()\n",
        "\n",
        "    return bars\n"
      ],
      "metadata": {
        "id": "ZrOMoRGyCYIb"
      },
      "execution_count": 122,
      "outputs": []
    },
    {
      "cell_type": "code",
      "source": [
        "import cv2\n",
        "import numpy as np\n",
        "import matplotlib.pyplot as plt\n",
        "\n",
        "def detect_pie_chart(image):\n",
        "    gray = cv2.cvtColor(image, cv2.COLOR_BGR2GRAY)\n",
        "    edges = cv2.Canny(gray, 50, 150)\n",
        "    contours, hierarchy = cv2.findContours(edges, cv2.RETR_EXTERNAL, cv2.CHAIN_APPROX_SIMPLE)\n",
        "\n",
        "    pie_chart_contours = []\n",
        "    for cnt in contours:\n",
        "        area = cv2.contourArea(cnt)\n",
        "        perimeter = cv2.arcLength(cnt, True)\n",
        "        circularity = 4 * np.pi * area / (perimeter ** 2)\n",
        "        if circularity > 0.7:\n",
        "            pie_chart_contours.append(cnt)\n",
        "\n",
        "    return pie_chart_contours\n",
        "\n",
        "def circle(image_path):\n",
        "    img = cv2.imread(image_path)\n",
        "\n",
        "    # Apply bilateral filter\n",
        "    img_bilateral = cv2.bilateralFilter(img, 9, 75, 75)\n",
        "\n",
        "    # Convert the image to grayscale\n",
        "    gray = cv2.cvtColor(img, cv2.COLOR_BGR2GRAY)\n",
        "\n",
        "    # Apply thresholding to remove text and noise\n",
        "    _, thresh = cv2.threshold(gray, 150, 255, cv2.THRESH_BINARY)\n",
        "\n",
        "    # Apply ROI masking to exclude non-graph regions\n",
        "    mask = np.zeros_like(thresh)\n",
        "    mask[50:400, 100:700] = 255\n",
        "    masked_thresh = cv2.bitwise_and(thresh, mask)\n",
        "\n",
        "    # Apply edge detection using the Canny algorithm\n",
        "    edges = cv2.Canny(gray, 100, 200)\n",
        "\n",
        "    # Detect pie chart contours\n",
        "    pie_chart_contours = detect_pie_chart(img)\n",
        "\n",
        "    # Draw the detected pie chart contours on the image\n",
        "    cv2.drawContours(img, pie_chart_contours, -1, (255, 255, 0), 2)\n",
        "\n",
        "    # Show the image\n",
        "    plt.imshow(cv2.cvtColor(img, cv2.COLOR_BGR2RGB))\n",
        "    plt.axis('off')\n",
        "    plt.show()\n",
        "\n",
        "    return pie_chart_contours"
      ],
      "metadata": {
        "id": "caX8El6CFdow"
      },
      "execution_count": 134,
      "outputs": []
    },
    {
      "cell_type": "code",
      "source": [
        "def get_topright_corner(bars):\n",
        "  topright_corner = []\n",
        "  for bar in bars:\n",
        "    x, y, w, h = cv2.boundingRect(bar)\n",
        "    topright_corner.append([x+w,y])\n",
        "  return topright_corner\n",
        "\n",
        "# contours_right_coords"
      ],
      "metadata": {
        "id": "8ZIC90msw2J2"
      },
      "execution_count": 8,
      "outputs": []
    },
    {
      "cell_type": "code",
      "source": [
        "def Layoutlmv2():\n",
        "  feature_extractor = LayoutLMv2FeatureExtractor.from_pretrained(\"microsoft/layoutlmv2-base-uncased\")# apply_ocr is set to True by default\n",
        "  tokenizer = LayoutLMv2TokenizerFast.from_pretrained(\"microsoft/layoutlmv2-base-uncased\")\n",
        "  model = LayoutLMv2ForTokenClassification.from_pretrained(\"nielsr/layoutlmv2-finetuned-funsd\")\n",
        "  return feature_extractor,tokenizer,model\n",
        "\n",
        "def labelForBoxes():\n",
        "  dataset = load_dataset(\"nielsr/funsd\", split=\"test\")\n",
        "  # define id2label, label2color\n",
        "  labels = dataset.features['ner_tags'].feature.names\n",
        "  id2label = {v: k for v, k in enumerate(labels)}\n",
        "  label2color = {'question':'blue', 'answer':'green', 'header':'orange', 'other':'violet'}\n",
        "  return id2label, label2color\n",
        "\n",
        "def unnormalize_box(bbox, width, height):\n",
        "     return [\n",
        "         width * (bbox[0] / 1000),\n",
        "         height * (bbox[1] / 1000),\n",
        "         width * (bbox[2] / 1000),\n",
        "         height * (bbox[3] / 1000),\n",
        "     ]\n",
        "\n",
        "def iob_to_label(label):\n",
        "    label = label[2:]\n",
        "    if not label:\n",
        "      return 'other'\n",
        "    return label\n",
        "\n",
        "def process_image(image,id2label,label2color,feature_extractor,tokenizer,model):\n",
        "\n",
        "    # Convert the image to RGB format\n",
        "    image = image.convert('RGB')\n",
        "    width, height = image.size\n",
        "\n",
        "    # get words, boxes\n",
        "    encoding_feature_extractor = feature_extractor(image, return_tensors=\"pt\")\n",
        "    words, boxes = encoding_feature_extractor.words, encoding_feature_extractor.boxes\n",
        "    # encode\n",
        "    encoding = tokenizer(words, boxes=boxes, truncation=True, return_offsets_mapping=True, return_tensors=\"pt\")\n",
        "    offset_mapping = encoding.pop('offset_mapping')\n",
        "    encoding[\"image\"] = encoding_feature_extractor.pixel_values\n",
        "    # forward pass\n",
        "    outputs = model(**encoding)\n",
        "    # get predictions\n",
        "    predictions = outputs.logits.argmax(-1).squeeze().tolist()\n",
        "    token_boxes = encoding.bbox.squeeze().tolist()\n",
        "    # only keep non-subword predictions\n",
        "    is_subword = np.array(offset_mapping.squeeze().tolist())[:,0] != 0\n",
        "    true_predictions = [id2label[pred] for idx, pred in enumerate(predictions) if not is_subword[idx]]\n",
        "    true_boxes = [unnormalize_box(box, width, height) for idx, box in enumerate(token_boxes) if not is_subword[idx]]\n",
        "    # draw predictions over the image\n",
        "    draw = ImageDraw.Draw(image)\n",
        "    font = ImageFont.load_default()\n",
        "    for prediction, box in zip(true_predictions, true_boxes):\n",
        "        predicted_label = iob_to_label(prediction).lower()\n",
        "        draw.rectangle(box, outline=label2color[predicted_label])\n",
        "        draw.text((box[0]+10, box[1]-10), text=predicted_label, fill=label2color[predicted_label], font=font)\n",
        "    return image,true_boxes,words,true_predictions,true_boxes,is_subword\n"
      ],
      "metadata": {
        "id": "DppibVMSw4z4"
      },
      "execution_count": 9,
      "outputs": []
    },
    {
      "cell_type": "code",
      "source": [
        "######## scaled data #############\n",
        "\n",
        "\n",
        "def normalize_bbox(bboxes,img):\n",
        "  # removing the fist and last coordinates\n",
        "  bboxes= bboxes[1:-1]\n",
        "\n",
        "  # Define the new image size\n",
        "  new_width = 100\n",
        "  new_height = 100\n",
        "\n",
        "  original_width,original_height = img.size\n",
        "  # Calculate the scaling factors\n",
        "  x_scale = new_width / original_width\n",
        "  y_scale = new_height / original_height\n",
        "\n",
        "  #parsing the bboxes\n",
        "  new_bboxes = []\n",
        "  for bbox in bboxes:\n",
        "    x1,y1,x2,y2 = bbox\n",
        "    # Normalize the bounding box coordinates\n",
        "    new_x1 = int(x1 * x_scale)\n",
        "    new_y1 = int(y1 * y_scale)\n",
        "    new_x2 = int(x2 * x_scale)\n",
        "    new_y2 = int(y2 * y_scale)\n",
        "\n",
        "    new_bbox = new_x1,new_y1,new_x2,new_y2\n",
        "    new_bboxes.append(new_bbox)\n",
        "  return new_bboxes\n"
      ],
      "metadata": {
        "id": "jd7Oa69yw-AN"
      },
      "execution_count": 10,
      "outputs": []
    },
    {
      "cell_type": "code",
      "source": [
        "######### categorize the words into \"keys, values, headers\"\n",
        "\n",
        "def graph_categorizer(words,bboxes,img):\n",
        "\n",
        "  output_dict = {\"headers\":[],\"keys\":[],\"values\":[]}\n",
        "\n",
        "  bboxes = normalize_bbox(bboxes,img)\n",
        "\n",
        "  for idx in range(len(words[0])):\n",
        "    x1,y1,x2,y2 = bboxes[idx]\n",
        "    ###### header\n",
        "    if(y2<=13):\n",
        "      output_dict['headers'].append(words[0][idx])\n",
        "    ###### keys\n",
        "    elif(x2<43):\n",
        "      output_dict['keys'].append(words[0][idx])\n",
        "    ###### values\n",
        "    elif(x2>=43):\n",
        "      output_dict['values'].append(words[0][idx])\n",
        "\n",
        "  return output_dict\n"
      ],
      "metadata": {
        "id": "9tQ87o6TxGos"
      },
      "execution_count": 11,
      "outputs": []
    },
    {
      "cell_type": "code",
      "source": [
        "import re\n",
        "\n",
        "def is_numeric_adv(text):\n",
        "  pattern = r'\\d+\\.?\\d+'  # regular expression pattern to match numerical values\n",
        "\n",
        "  matches = re.findall(pattern, text)  # find all numerical values in the text string\n",
        "\n",
        "  if(len(matches)):\n",
        "    return True\n",
        "  return False\n"
      ],
      "metadata": {
        "id": "Rc2MHPx8xL6_"
      },
      "execution_count": 12,
      "outputs": []
    },
    {
      "cell_type": "code",
      "source": [
        "######## merge close words\n",
        "\n",
        "def merge_close_words(words,bboxes,image):\n",
        "\n",
        "\n",
        "  nbboxes = normalize_bbox(bboxes,image)\n",
        "  categorized_text = graph_categorizer(words,bboxes,image)\n",
        "\n",
        "  words_to_bbox = {}\n",
        "  bboxes = bboxes[1:-1]\n",
        "  for idx in range(len(words[0])):\n",
        "    if(words[0][idx] in categorized_text['headers']  or words[0][idx] in categorized_text['keys']):\n",
        "      if(words[0][idx] in list(words_to_bbox.keys())):\n",
        "        continue\n",
        "      words_to_bbox[words[0][idx]] = bboxes[idx]\n",
        "  # print(words_to_bbox)\n",
        "\n",
        "  parsed_idx = []\n",
        "  parsed_words = []\n",
        "  for idx in range(len(words[0])):\n",
        "    if(idx in parsed_idx or words[0][idx] in parsed_words):\n",
        "      continue\n",
        "    if((words[0][idx] in categorized_text['headers']  or words[0][idx] in categorized_text['keys']) and (is_numeric_adv(words[0][idx])==False)):\n",
        "      x1,y1,x2,y2 = nbboxes[idx]\n",
        "      # print([words[0][idx]], nbboxes[idx])\n",
        "      parsed_words.append(words[0][idx])\n",
        "      ori_x1,ori_y1,ori_x2,ori_y2 = words_to_bbox[words[0][idx]]\n",
        "\n",
        "      lower_10th_no = (y2//10) * 10\n",
        "      higher_10th_no = lower_10th_no + 10\n",
        "\n",
        "      # print(lower_10th_no , words[0][idx],y2)\n",
        "\n",
        "      if(idx+4<len(words[0])):\n",
        "        end_bound = idx+4\n",
        "      else:\n",
        "        end_bound = len(words[0])\n",
        "\n",
        "      new_word = words[0][idx]\n",
        "      for idx2 in range(idx+1,idx+4):\n",
        "\n",
        "        x1_d,y1_d,x2_d,y2_d = nbboxes[idx2]\n",
        "\n",
        "\n",
        "        lower_10th_no_d = (y2_d//10) * 10\n",
        "        # print(lower_10th_no_d , words[0][idx2],y2_d)\n",
        "        if(lower_10th_no_d == lower_10th_no):\n",
        "          parsed_idx.append(idx)\n",
        "          parsed_idx.append(idx2)\n",
        "          parsed_idx =  list(set(parsed_idx))\n",
        "          new_word = new_word + \" \" +  words[0][idx2]\n",
        "          ori_x1_d,ori_y1_d,ori_x2_d,ori_y2_d = words_to_bbox[words[0][idx2]]\n",
        "      # print(new_word)\n",
        "\n",
        "      if(new_word in list(words_to_bbox.keys())):\n",
        "        continue\n",
        "      else:\n",
        "        new_bbox = ori_x1,ori_y1, ori_x2_d,ori_y2_d\n",
        "\n",
        "        ### delete the words that are now concatenated into new word\n",
        "        keys = list(words_to_bbox.keys())\n",
        "        for k in keys:\n",
        "          if(k in new_word):\n",
        "            # print('deleted',k)\n",
        "            del words_to_bbox[k]\n",
        "\n",
        "        #### add the concatenated word\n",
        "        words_to_bbox[new_word] = [ori_x1,ori_y1, ori_x2_d,ori_y2_d]\n",
        "\n",
        "      # words_to_bbox[]\n",
        "\n",
        "  # bboxes = bboxes[1:-1]\n",
        "  for idx in range(len(words[0])):\n",
        "    # print('word', words[0][idx], bboxes[idx] )\n",
        "    if(words[0][idx] in categorized_text['values']):\n",
        "      words_to_bbox[words[0][idx]] = bboxes[idx]\n",
        "  # print(words_to_bbox)\n",
        "  return words_to_bbox"
      ],
      "metadata": {
        "id": "Ec8Q1QNCxW-m"
      },
      "execution_count": 13,
      "outputs": []
    },
    {
      "cell_type": "code",
      "source": [
        "\n",
        "def draw_bboxes(bboxes,image_path):\n",
        "  # Load input image\n",
        "  img = cv2.imread(image_path)\n",
        "\n",
        "  for bbox in bboxes:\n",
        "    # print(bbox)\n",
        "    # print((int(bbox[0]), int(bbox[1])), (int(bbox[2]), int(bbox[3])))\n",
        "\n",
        "    # Draw rectangle on image\n",
        "    color = (0, 255, 0)  # BGR color tuple for the rectangle (green in this case)\n",
        "    thickness = 2  # thickness of the rectangle border\n",
        "    cv2.rectangle(img, (int(bbox[0]), int(bbox[1])), (int(bbox[2]), int(bbox[3])), color, thickness)\n",
        "\n",
        "  return img"
      ],
      "metadata": {
        "id": "GPj0iU5NxXg8"
      },
      "execution_count": 14,
      "outputs": []
    },
    {
      "cell_type": "code",
      "source": [
        "####### assign values to their respective keys with the help contours\n",
        "\n",
        "\n",
        "\n",
        "def nearest_assignment(updated_categorized_data,updated_words_to_bboxes,contours_right_coords):\n",
        "  #### values to contour relation\n",
        "  contour_to_values = {}\n",
        "  for idx in range(len(contours_right_coords)):\n",
        "    contours = contours_right_coords[idx]\n",
        "    cont_x,_ = contours\n",
        "    min_dist = float('inf')\n",
        "    min_value = None\n",
        "    for value in updated_categorized_data['values']:\n",
        "      _,_,value_x,_ = updated_words_to_bboxes[value]\n",
        "      curr_dist = abs(value_x-cont_x)\n",
        "      # print(value,curr_dist,value_x,cont_x)\n",
        "      if(min_dist>curr_dist):\n",
        "        min_dist = curr_dist\n",
        "        min_value = value\n",
        "    contour_to_values[contours[1]] = min_value\n",
        "\n",
        "  # print(contour_to_values)\n",
        "\n",
        "\n",
        "\n",
        "\n",
        "  ######## simple method\n",
        "  if(len(updated_categorized_data['values'])==len(contours_right_coords)):\n",
        "    contour_to_values = {}\n",
        "    for idx in range(len(contours_right_coords)):\n",
        "      contours = contours_right_coords[idx]\n",
        "      contour_to_values[contours[1]] = updated_categorized_data['values'][idx]\n",
        "  return contour_to_values"
      ],
      "metadata": {
        "id": "NTAoxUt6xxx7"
      },
      "execution_count": 15,
      "outputs": []
    },
    {
      "cell_type": "code",
      "source": [
        "#### assign values to their respective keys\n",
        "\n",
        "def assign_value_to_keys(updated_categorized_data,updated_words_to_bboxes,contours_right_coords,contour_to_values):\n",
        "\n",
        "  # fist assign the keys to the bars\n",
        "  bars_to_keys = {}\n",
        "\n",
        "  ## parsing the updated_categorized_data\n",
        "  for cnt in contours_right_coords:\n",
        "    _,cond_y = cnt\n",
        "    min_diff = float('inf')\n",
        "    right_key = None\n",
        "    for key in updated_categorized_data['keys']:\n",
        "      _,_,_,y = updated_words_to_bboxes[key]\n",
        "      diff = float(abs(cond_y - y))\n",
        "      if(min_diff > diff):\n",
        "        min_diff = diff\n",
        "        right_key = key\n",
        "    bars_to_keys[cond_y] = right_key\n",
        "\n",
        "\n",
        "  ###### simple solution for bars to keys\n",
        "  if(len(contours_right_coords)==len(updated_categorized_data['keys'])):\n",
        "    bars_to_keys = {}\n",
        "    for idx in range(len(contours_right_coords)):\n",
        "      contours = contours_right_coords[idx]\n",
        "      bars_to_keys[contours[1]] = updated_categorized_data['keys'][idx]\n",
        "  # print(bars_to_keys)\n",
        "  # print(contour_to_values)\n",
        "\n",
        "  # now assigning the keys to the values\n",
        "  keys_to_values = {}\n",
        "  for k,v in bars_to_keys.items():\n",
        "    # print(k,'v',v,contour_to_values[k])\n",
        "    keys_to_values[v] = contour_to_values[k]\n",
        "\n",
        "  return keys_to_values"
      ],
      "metadata": {
        "id": "rKowtRmkxyOx"
      },
      "execution_count": 16,
      "outputs": []
    },
    {
      "cell_type": "code",
      "source": [
        "import cv2\n",
        "import numpy as np\n",
        "\n",
        "def detect_graph_orientation(image):\n",
        "    gray = cv2.cvtColor(image, cv2.COLOR_BGR2GRAY)\n",
        "    edges = cv2.Canny(gray, 50, 150)\n",
        "    lines = cv2.HoughLinesP(edges, 1, np.pi/180, 100, minLineLength=250, maxLineGap=15)\n",
        "\n",
        "    if lines is not None:\n",
        "        vertical_lines = []\n",
        "        horizontal_lines = []\n",
        "\n",
        "        for line in lines:\n",
        "            x1, y1, x2, y2 = line[0]\n",
        "            if abs(x1 - x2) < 5:  # Check if the line is vertical\n",
        "                vertical_lines.append(line)\n",
        "            elif abs(y1 - y2) < 5:  # Check if the line is horizontal\n",
        "                horizontal_lines.append(line)\n",
        "\n",
        "        if len(vertical_lines) > len(horizontal_lines):\n",
        "            return 1  # \"Vertical\"\n",
        "        elif len(horizontal_lines) > len(vertical_lines):\n",
        "            return 2  # \"Horizontal\"\n",
        "\n",
        "    return 0  # \"Unknown\"\n"
      ],
      "metadata": {
        "id": "-7DK69cS8aJl"
      },
      "execution_count": 131,
      "outputs": []
    },
    {
      "cell_type": "markdown",
      "source": [
        "### input image"
      ],
      "metadata": {
        "id": "SuM26kv1yavi"
      }
    },
    {
      "cell_type": "code",
      "source": [
        "from google.colab import drive\n",
        "drive.mount('/content/drive')"
      ],
      "metadata": {
        "colab": {
          "base_uri": "https://localhost:8080/"
        },
        "id": "Qbc8kmctXJLy",
        "outputId": "45ef3674-4aaf-4c18-d83a-875ca1f08179"
      },
      "execution_count": 113,
      "outputs": [
        {
          "output_type": "stream",
          "name": "stdout",
          "text": [
            "Drive already mounted at /content/drive; to attempt to forcibly remount, call drive.mount(\"/content/drive\", force_remount=True).\n"
          ]
        }
      ]
    },
    {
      "cell_type": "code",
      "source": [
        "image_path = '/content/drive/MyDrive/자료/pie_chart_00.png'\n",
        "img = cv2.imread(image_path)\n",
        "cv2_imshow(img)"
      ],
      "metadata": {
        "colab": {
          "base_uri": "https://localhost:8080/",
          "height": 371
        },
        "id": "6W9xzmYBybRf",
        "outputId": "e6e22452-19c3-4488-b98d-78def24069f0"
      },
      "execution_count": 146,
      "outputs": [
        {
          "output_type": "display_data",
          "data": {
            "text/plain": [
              "<PIL.Image.Image image mode=RGB size=400x354 at 0x7F364218E440>"
            ],
            "image/png": "[encoded data removed]"
          },
          "metadata": {}
        }
      ]
    },
    {
      "cell_type": "code",
      "source": [
        "image = cv2.imread(image_path)\n",
        "\n",
        "# 그래프 방향에 따라 함수 호출\n",
        "orientation = detect_graph_orientation(image)\n",
        "if orientation == 2:\n",
        "    bars = calc_contours(image_path)\n",
        "    contours_right_coords = get_topright_corner(bars[::-1])\n",
        "elif orientation == 1:\n",
        "    bars = calc_contours_contours(image_path)\n",
        "    contours_right_coords = get_topright_corner(bars[::-1])\n",
        "else: #orientation == 3:\n",
        "    bars = circle(image_path)\n",
        "    contours_right_coords = get_topright_corner(bars[::-1])\n",
        "# else:\n",
        "#   print(\"잘못됨\")"
      ],
      "metadata": {
        "colab": {
          "base_uri": "https://localhost:8080/",
          "height": 406
        },
        "id": "UrJjH1sz8dly",
        "outputId": "aa688e87-3509-4c84-fdec-a25453d1122b"
      },
      "execution_count": 147,
      "outputs": [
        {
          "output_type": "display_data",
          "data": {
            "text/plain": [
              "<Figure size 640x480 with 1 Axes>"
            ],
            "image/png": "[encoded data removed]"
          },
          "metadata": {}
        }
      ]
    },
    {
      "cell_type": "markdown",
      "source": [
        "### getting the bboxes of the words"
      ],
      "metadata": {
        "id": "x7RbKXLSyBD6"
      }
    },
    {
      "cell_type": "code",
      "source": [
        "image = Image.open(image_path)\n",
        "\n",
        "feature_extractor,tokenizer,model = Layoutlmv2()\n",
        "\n",
        "id2label, label2color = labelForBoxes()\n",
        "\n",
        "output_image, boxes,words,true_predictions,true_boxes,is_subword = process_image(image,id2label,label2color,feature_extractor,tokenizer,model)\n",
        "\n",
        "words_to_bbox = merge_close_words(words,boxes,image)\n",
        "bboxes = list(words_to_bbox.values())\n"
      ],
      "metadata": {
        "colab": {
          "base_uri": "https://localhost:8080/"
        },
        "id": "RJoWWWNmx9pS",
        "outputId": "32e84237-8c6b-4bbe-dbd1-e962d6149257"
      },
      "execution_count": 148,
      "outputs": [
        {
          "output_type": "stream",
          "name": "stderr",
          "text": [
            "/usr/local/lib/python3.10/dist-packages/transformers/models/layoutlmv2/feature_extraction_layoutlmv2.py:30: FutureWarning: The class LayoutLMv2FeatureExtractor is deprecated and will be removed in version 5 of Transformers. Please use LayoutLMv2ImageProcessor instead.\n",
            "  warnings.warn(\n",
            "WARNING:datasets.builder:Found cached dataset funsd (/root/.cache/huggingface/datasets/nielsr___funsd/funsd/1.0.0/8b0472b536a2dcb975d59a4fb9d6fea4e6a1abe260b7fed6f75301e168cbe595)\n"
          ]
        }
      ]
    },
    {
      "cell_type": "code",
      "source": [
        "words"
      ],
      "metadata": {
        "colab": {
          "base_uri": "https://localhost:8080/"
        },
        "id": "sK7VEOh_4N4k",
        "outputId": "430ec8bd-8c53-4218-8bb0-0955bfceab46"
      },
      "execution_count": 149,
      "outputs": [
        {
          "output_type": "execute_result",
          "data": {
            "text/plain": [
              "[['Apple', '34.0%', 'Grapes', '18.0%']]"
            ]
          },
          "metadata": {},
          "execution_count": 149
        }
      ]
    },
    {
      "cell_type": "markdown",
      "source": [
        "### matching of contours with their respective values"
      ],
      "metadata": {
        "id": "zXuBQ3N7yNJW"
      }
    },
    {
      "cell_type": "code",
      "source": [
        "words_to_boxes = merge_close_words(words,boxes,image)\n",
        "bboxes = list(words_to_boxes.values())\n",
        "bboxes.insert(0, [0.0,0.0,0.0,0.0])\n",
        "bboxes.append( [0.0,0.0,0.0,0.0])\n",
        "words_d = [list(words_to_boxes.keys())]\n",
        "\n",
        "updated_categorized_data = graph_categorizer(words_d,bboxes,image)\n",
        "updated_words_to_bboxes = merge_close_words(words,boxes,image)\n",
        "contours_right_coords = get_topright_corner(bars[::-1])\n",
        "\n",
        "contour_to_values = nearest_assignment(updated_categorized_data,updated_words_to_bboxes,contours_right_coords)\n",
        "\n",
        "sub_output = assign_value_to_keys(updated_categorized_data,updated_words_to_bboxes,contours_right_coords,contour_to_values)"
      ],
      "metadata": {
        "id": "jVApXW-tyMq7"
      },
      "execution_count": 139,
      "outputs": []
    },
    {
      "cell_type": "markdown",
      "source": [
        "### output"
      ],
      "metadata": {
        "id": "c-lWXu0ZzZ8f"
      }
    },
    {
      "cell_type": "code",
      "source": [
        "output = {\"header\": updated_categorized_data['headers'], \"Mapping\":sub_output}\n",
        "output"
      ],
      "metadata": {
        "colab": {
          "base_uri": "https://localhost:8080/"
        },
        "id": "phXFQihZzYA3",
        "outputId": "f88ed9d1-3d70-4d45-e272-13f9d63ec80c"
      },
      "execution_count": 140,
      "outputs": [
        {
          "output_type": "execute_result",
          "data": {
            "text/plain": [
              "{'header': ['Apple'], 'Mapping': {'34.0%': '18.0%', 'Grapes': '18.0%'}}"
            ]
          },
          "metadata": {},
          "execution_count": 140
        }
      ]
    },
    {
      "cell_type": "markdown",
      "source": [
        "### output"
      ],
      "metadata": {
        "id": "DbQt9qbg1odu"
      }
    },
    {
      "cell_type": "code",
      "source": [],
      "metadata": {
        "id": "Wsb-87m12Gk3"
      },
      "execution_count": 78,
      "outputs": []
    }
  ]
}